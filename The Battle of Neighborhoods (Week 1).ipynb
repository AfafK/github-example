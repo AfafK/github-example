{
 "cells": [
  {
   "cell_type": "markdown",
   "metadata": {},
   "source": [
    "## A description of the problem and a discussion of the background."
   ]
  },
  {
   "cell_type": "markdown",
   "metadata": {},
   "source": [
    "##### Problem: Investor would like information about the ideal location to open a restaurant in Neighbourhoods of Toronto. To ensure that investment is productive, the investor is interested in the factors that can control the profit margin and which neighbourhoods are worth investing in and by how much amount.\n",
    "\n",
    "##### Background: Toronto Neighbourhoods have different populations that denote how many people are actually in a place and hence how likely they are to actually visit restaurant. A more populous neighbourhood will provide more customers to the restaurant and hence more profit. The income of population is significant factor in suggesting how likely are people to spend on food and the amount as well. The average income of neighbourhoods is also observed to provide information. Higher average income increases the chance of people treating themselves out along with increasing the likely hood of eating out."
   ]
  },
  {
   "cell_type": "markdown",
   "metadata": {},
   "source": [
    "## A description of the data and how it will be used to solve the problem."
   ]
  },
  {
   "cell_type": "markdown",
   "metadata": {},
   "source": [
    "##### Description of data: There will be two main factors that will be examined, Population and Income. Generally combination of high population and high income increases customers' chance and numbers in a restaurant. However ideally this situation is rare and hence both factors have to be examined in combination as high population with low income will not contribute to people spending much and low population with high income will not provide many customers, also as it decreases social gatherings. And low population and low income are hardly any worth in contributing to a restaurant.\n",
    "\n",
    "##### Solution: The population and income data of all neighbourhoods will be filtered out from others factors. To make it easier of our understanding, the data will be scaled down. Both factors will be observed on a graph as features. Clusters will be formed to indicate type of investment for each cluster. Like high population with high income cluster will be prone to high investment."
   ]
  }
 ],
 "metadata": {
  "kernelspec": {
   "display_name": "Python",
   "language": "python",
   "name": "conda-env-python-py"
  },
  "language_info": {
   "codemirror_mode": {
    "name": "ipython",
    "version": 3
   },
   "file_extension": ".py",
   "mimetype": "text/x-python",
   "name": "python",
   "nbconvert_exporter": "python",
   "pygments_lexer": "ipython3",
   "version": "3.6.10"
  }
 },
 "nbformat": 4,
 "nbformat_minor": 4
}
